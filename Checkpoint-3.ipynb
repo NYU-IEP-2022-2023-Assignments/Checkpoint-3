{
  "nbformat": 4,
  "nbformat_minor": 0,
  "metadata": {
    "colab": {
      "provenance": [],
      "authorship_tag": "ABX9TyMspVOaoqM5EG78jIuuogQW",
      "include_colab_link": true
    },
    "kernelspec": {
      "name": "python3",
      "display_name": "Python 3"
    },
    "language_info": {
      "name": "python"
    }
  },
  "cells": [
    {
      "cell_type": "markdown",
      "metadata": {
        "id": "view-in-github",
        "colab_type": "text"
      },
      "source": [
        "<a href=\"https://colab.research.google.com/github/NYU-IEP-2022-2023-Assignments/Checkpoint-3/blob/main/Checkpoint-3.ipynb\" target=\"_parent\"><img src=\"https://colab.research.google.com/assets/colab-badge.svg\" alt=\"Open In Colab\"/></a>"
      ]
    },
    {
      "cell_type": "code",
      "source": [
        "import numpy as np\n",
        "import matplotlib.pyplot as plt\n",
        "import os, glob\n",
        "import scipy.optimize\n",
        "import itertools,operator\n",
        "from scipy.integrate import solve_ivp\n"
      ],
      "metadata": {
        "id": "NiIVG0gISz9V"
      },
      "execution_count": 1,
      "outputs": []
    },
    {
      "cell_type": "markdown",
      "source": [
        "# Lab 5 analysis results\n",
        "\n",
        "At the end of the checkpoint, you'll compare your simulated results to your measured results\n",
        "\n",
        "The first part of the code here will load and analyze your lab 5 results using a subset of the lab 5 analysis solution. It runs fine on the sample data; if it doesn't work with your data, please check the directory names and keys.\n",
        "\n",
        "**Edit the values in the block below to match your lab 5 data**"
      ],
      "metadata": {
        "id": "bgfsvTvwRef2"
      }
    },
    {
      "cell_type": "code",
      "source": [
        "# MODIFY THIS LINE SO THAT THE URL POINTS TO YOUR DATA REPOSITORY by replacing \"your_github_username\" with your github user name \n",
        "# DO NOT delete the \"data\" at the end of the line \n",
        "!git clone https://github.com/NYU-IEP-2022-3-Classroom/Lab5-Sample-Data data\n",
        "largeBobDirectory = 'data/Large Bob'\n",
        "smallBobDirectory = 'data/Small Bob'\n",
        "\n",
        "\n",
        "lg_dir = (\"1\", \"2\", \"3\", \"4\", \"5\", \"6\", \"7\", \"8\",\"9\",\"10\") #if needed, replace with your directory names\n",
        "lg_h = np.array((1,2,3,4,5,6,7,8,9,10),'float') #if you changed directory names, make sure you have matching distances here\n",
        "\n",
        "sm_dir = (\"1\", \"2\", \"3\", \"4\", \"5\", \"6\", \"7\", \"8\",\"9\",\"10\") #if needed, replace with your directory names\n",
        "sm_h = np.array((1,2,3,4,5,6,7,8,9,10),'float') #if you changed directory names, make sure you have matching distances here\n",
        "\n"
      ],
      "metadata": {
        "colab": {
          "base_uri": "https://localhost:8080/"
        },
        "id": "D5xNaJa9RlmU",
        "outputId": "f8873079-6ad5-4bd3-acb3-62b8501e4db4"
      },
      "execution_count": 2,
      "outputs": [
        {
          "output_type": "stream",
          "name": "stdout",
          "text": [
            "Cloning into 'data'...\n",
            "remote: Enumerating objects: 402, done.\u001b[K\n",
            "remote: Counting objects: 100% (9/9), done.\u001b[K\n",
            "remote: Compressing objects: 100% (8/8), done.\u001b[K\n",
            "remote: Total 402 (delta 0), reused 9 (delta 0), pack-reused 393\u001b[K\n",
            "Receiving objects: 100% (402/402), 58.29 MiB | 15.06 MiB/s, done.\n",
            "Resolving deltas: 100% (58/58), done.\n",
            "Updating files: 100% (510/510), done.\n"
          ]
        }
      ]
    },
    {
      "cell_type": "markdown",
      "source": [
        "#Possibly useful fitting functions"
      ],
      "metadata": {
        "id": "RJ_Qgem9BRa0"
      }
    },
    {
      "cell_type": "code",
      "metadata": {
        "id": "Cl8RA_5ewqH4"
      },
      "source": [
        "# fitting an exponential\n",
        "# exponential has two parameters, the y-intercept (a) and the\n",
        "# exponential multiplier constant (b which for our purposes is -1/tau)\n",
        "# inputs: x,y - numpy arrays\n",
        "# outputs: a: fit value of y(0)\n",
        "#          b: fit value of exonent\n",
        "#          fity: a * e^(bx) \n",
        "#\n",
        "# fit exponential fast is like fit exponential but fits a line to the logarithm instead of doing the nonlinear fit\n",
        "def fitExponential(x,y):\n",
        "  #rescale/recenter data so x starts at 0; y has max value of 1\n",
        "  xx = x - np.min(x)\n",
        "  yy = y / np.max(y)\n",
        "  fitparams, *_ = scipy.optimize.curve_fit(lambda xdata, a, b : a*np.exp(b * xdata), xx, yy, (1, -1/max(xx)))\n",
        "  a,b = fitparams\n",
        "  a = a*np.max(y)*np.exp(-b*np.min(x)) #undo effects of rescaling, recentering\n",
        "  return (a,b, a*np.exp(b*x))\n",
        "\n",
        "def fitExponentialFast(x,y):\n",
        "  xx = x - np.min(x)\n",
        "  yy = y / np.max(y)\n",
        "  p = np.polyfit(xx, np.log(yy),1)\n",
        "  a = np.exp(p[1])\n",
        "  b = p[0]\n",
        "  a = a*np.max(y)*np.exp(-b*np.min(x)) #undo effects of rescaling, recentering\n",
        "  return (a,b, a*np.exp(b*x))\n",
        "\n",
        "\n",
        "# fitting a line\n",
        "# line is polynomial of degree 1\n",
        "# two free parameters, the slope and the y intercept\n",
        "# inputs: x,y - numpy arrays\n",
        "# outputs: slope (m): fit value of slope\n",
        "#          intercept (b): fit value of intercept (y(0))\n",
        "#          fity: m*x + b\n",
        "def fitLine(x,y):\n",
        "  p = np.polyfit(x,y,1)\n",
        "  slope = p[0]\n",
        "  intercept = p[1]\n",
        "  return (slope, intercept, slope*x + intercept)\n",
        "\n"
      ],
      "execution_count": 3,
      "outputs": []
    },
    {
      "cell_type": "markdown",
      "source": [
        "##After running this block, you should see the lifetime vs. height for your small and large bobs \n",
        "\n",
        "This runs a subset of the lab5 analysis to generate the lifetime vs separation data. \n",
        "\n",
        "large bob results will be stored in `lg_h` (separation in mm), `lg_tau` (lifetime in seconds), and `lg_tau_sem` (standard error of the mean lifetime)\n",
        "\n",
        "small bob results will be stored in `sm_h` (separation in mm), `sm_tau` (lifetime in seconds), and `sm_tau_sem` (standard error of the mean lifetime)\n"
      ],
      "metadata": {
        "id": "wUpH5JwxVEGO"
      }
    },
    {
      "cell_type": "code",
      "metadata": {
        "id": "rl2JqjsMqXUV",
        "colab": {
          "base_uri": "https://localhost:8080/",
          "height": 962
        },
        "outputId": "cccc54e7-6f38-4c94-b719-41f9159e57e1"
      },
      "source": [
        "def findOrbitFiles (startdir):\n",
        "  #orbitFiles = findOrbitFiles(startdir)\n",
        "  # input stardir: path to top level directory (e.g. data_repository/large bob)\n",
        "  # output orbitFiles: dictionary with paths to orbit files, key names are taken from directories under startdir \n",
        "  #   e.g. if startdir has a directory 2mm, then\n",
        "  #   orbitFiles[\"2mm\"] is a list of paths to all slope files (end _slope.txt) \n",
        "  #   under this directory, even in subdirectories\n",
        "\n",
        "  #https://stackoverflow.com/questions/3964681/find-all-files-in-a-directory-with-extension-txt-in-python\n",
        "  #https://www.kite.com/python/answers/how-to-search-for-specific-files-in-subdirectories-in-python\n",
        "\n",
        "  orbitFiles = dict()\n",
        "  for entry in os.scandir(startdir):\n",
        "    if (entry.is_dir):\n",
        "      key = entry.name\n",
        "      orbitFiles[key] = sorted(glob.glob(entry.path + '/**/*_orbit.txt'))\n",
        "  return orbitFiles\n",
        "\n",
        "# needed to check data validity\n",
        "# returns the indices of the first and last element of the largest sequence of true in a list of booleans\n",
        "def longestTrueSequence(seq):\n",
        "  #adapted from https://stackoverflow.com/questions/40166522/find-longest-sequence-of-0s-in-the-integer-list\n",
        "  r = max((list(y) for (x,y) in itertools.groupby((enumerate(seq)),operator.itemgetter(1)) if x), key=len)\n",
        "  return (r[0][0], r[-1][0])\n",
        "\n",
        "# Checking data validity (no wild outliers)\n",
        "# returns indices of the longest sequence of valid data\n",
        "def sanityCheck(time, slope, amplitude, number, maxTime = np.inf):\n",
        "  dt = np.diff(time)\n",
        "  dslope = np.diff(np.abs(np.log(slope)))\n",
        "  damplitude = np.diff(np.abs(np.log(amplitude)))\n",
        "  dn = np.diff(number)\n",
        "  maxperiod = 5 #equivalent to 6 meter pendulum\n",
        "  maxchange = np.log(1.25) #don't allow an INCREASE of more than 25%\n",
        "  valid = ((dt > 0) & (dt < maxperiod) & (dslope < maxchange) & (damplitude < maxchange) & (dn > 0) & (dn == 2))\n",
        "  (start,stop) = longestTrueSequence(valid)\n",
        "  if start > 0:\n",
        "    start = start+1\n",
        "  t0 = time[start]\n",
        "  tt = time[start:stop+1]\n",
        "  stop = np.argmax(tt[(tt-t0) <= maxTime]) + start\n",
        "  return range(start, stop+1)\n",
        "\n",
        "# load slope and get longest valid sequence\n",
        "# takes the absolute value of slope \n",
        "# inputs: filepath - path of the file\n",
        "#         maxTime - optional, longest duration to load\n",
        "# outputs: time - time of the crossing: (file contains every other crossing, e.g. 1 per period)\n",
        "#          slope - absolute value of slope at the crossing (V/s)\n",
        "#          majaxis - major axis (mm)\n",
        "#          minaxis - minor axis (mm)\n",
        "#          \n",
        "def loadOrbitFile(filepath, maxTime = 10000000):\n",
        "  #num crossings\ttime (s)\tmaj axis (mm)\tmin axis (mm)\ttheta (rad )\tslope (V/s)\n",
        "  num, time, majaxis, minaxis, theta, slope = np.loadtxt(filepath, skiprows = 1, unpack=True)\n",
        "  validInds = sanityCheck(time,np.abs(slope),majaxis,num,maxTime)\n",
        "  num = num[validInds]\n",
        "  time = time[validInds]\n",
        "  time = time - time[0] #0 reference time\n",
        "  majaxis = majaxis[validInds]\n",
        "  minaxis = minaxis[validInds]\n",
        "  slope = np.abs(slope[validInds])\n",
        "\n",
        "  return (time,slope,majaxis,minaxis)\n",
        "\n",
        "\n",
        "def analyzeFile(file, slope_plot_axis = None, ampsq_plot_axis = None):\n",
        "  \n",
        "  time,slope,majaxis,minaxis = loadOrbitFile(file)\n",
        "\n",
        "  #store the total energy in the variable ampsq\n",
        "  ampsq = majaxis**2 + minaxis**2\n",
        "\n",
        "  a_slope,b_slope,slope_fit = fitExponential(time, slope) \n",
        "\n",
        "  #CODE1: fit an exponential to the amplitude squared data\n",
        "  a_ampsq, b_ampsq, ampsq_fit = fitExponential(time,ampsq) #your code here\n",
        "\n",
        "  if not(slope_plot_axis is None):\n",
        "    slope_plot_axis.semilogy(time,slope)\n",
        "    #CODE2: use semilogy to plot the fit slope vs time, as a dashed black line\n",
        "    slope_plot_axis.semilogy(time,slope_fit, 'k--')\n",
        "\n",
        "  if not(ampsq_plot_axis is None):\n",
        "    #CODE3: use semilogy to make a plot of time on the linear x-axis vs. amplitude squared on the logarithmic y-axis \n",
        "    ampsq_plot_axis.semilogy(time, ampsq)#(#your code here#) \n",
        "    ampsq_plot_axis.semilogy(time, ampsq_fit, 'k--')\n",
        "    #CODE4: use semilogy to plot the fit slope vs time, as a dashed black line\n",
        " \n",
        "  \n",
        "  lifetime_slope = -1/b_slope\n",
        "  #CODE5: calculate the amplitude squared lifetime and store the result in lifetime_ampsq\n",
        "  lifetime_ampsq = -1/b_ampsq\n",
        "\n",
        "  return (lifetime_slope, lifetime_ampsq)\n",
        "\n",
        "def analyzeDirectory(listOfFiles, slope_plot_axis = None, ampsq_plot_axis = None): \n",
        "  #create empty lists to store lifetimes\n",
        "  slope_lifetime = []\n",
        "  ampsq_lifetime = []\n",
        "  for file in listOfFiles:\n",
        "    (slope_tau, ampsq_tau) = analyzeFile(file, slope_plot_axis, ampsq_plot_axis)\n",
        "    slope_lifetime.append(slope_tau)\n",
        "    ampsq_lifetime.append(ampsq_tau)\n",
        "  return(np.array(slope_lifetime), np.array(ampsq_lifetime))\n",
        "\n",
        "try:\n",
        "  # loading data, need to know file structure of repository\n",
        "  largeBobFiles = findOrbitFiles(largeBobDirectory)\n",
        "except:\n",
        "  print('could not load large bob files from ' + largeBobDirectory)\n",
        "\n",
        "try:\n",
        "  # loading data, need to know file structure of repository\n",
        "  smallBobFiles = findOrbitFiles(smallBobDirectory)\n",
        "except:\n",
        "  print('could not load large bob files from ' + smallBobDirectory)\n",
        "\n",
        "try:\n",
        "  dirs_to_analyze = [largeBobFiles[k] for k in lg_dir]\n",
        "\n",
        "  #initialize numpy arrays\n",
        "  lg_tau = lg_h*0.;\n",
        "  lg_tau_sigma = lg_h*0.;\n",
        "  lg_tau_sem = lg_h*0.;\n",
        "\n",
        "  for i in range(len(dirs_to_analyze)):\n",
        "      (_,lifetime) = analyzeDirectory(dirs_to_analyze[i])\n",
        "      lg_tau[i] =  np.mean(lifetime)#CODE 15: calculate mean of lifetime list\n",
        "      lg_tau_sigma[i] = np.std(lifetime,ddof=1)\n",
        "      lg_tau_sem[i] = lg_tau_sigma[i] / np.sqrt(len(lifetime))\n",
        "\n",
        "  plt.errorbar(lg_h, lg_tau, lg_tau_sem)   \n",
        "  plt.xlabel('separation (mm)')\n",
        "  plt.ylabel('lifetime (s)')\n",
        "  plt.title('large bob lifetime vs. separation')\n",
        "  plt.show()\n",
        "  print ('large bob results stored in: lg_h, lg_tau, lg_tau_sem')\n",
        "except:\n",
        "  print('large bob not analyzed')\n",
        "\n",
        "\n",
        "try:\n",
        "  sm_dirs_to_analyze = [smallBobFiles[k] for k in sm_dir]\n",
        "\n",
        "  #initialize numpy arrays\n",
        "  sm_tau = sm_h*0.;\n",
        "  sm_tau_sigma = sm_h*0.;\n",
        "  sm_tau_sem = sm_h*0.;\n",
        "\n",
        "  for i in range(len(sm_dirs_to_analyze)):\n",
        "      (_,lifetime) = analyzeDirectory(sm_dirs_to_analyze[i])\n",
        "      sm_tau[i] =  np.mean(lifetime)#CODE 15: calculate mean of lifetime list\n",
        "      sm_tau_sigma[i] = np.std(lifetime,ddof=1)\n",
        "      sm_tau_sem[i] = sm_tau_sigma[i] / np.sqrt(len(lifetime))\n",
        "  plt.errorbar(sm_h, sm_tau, sm_tau_sem)   \n",
        "  plt.xlabel('separation (mm)')\n",
        "  plt.ylabel('lifetime (s)')\n",
        "  plt.title('small bob lifetime vs. separation')\n",
        "  plt.show()\n",
        "  print ('small bob results stored in: sm_h, sm_tau, sm_tau_sem')   \n",
        "except:\n",
        "   print('small bob not analyzed')\n",
        "\n",
        "\n"
      ],
      "execution_count": 4,
      "outputs": [
        {
          "output_type": "display_data",
          "data": {
            "text/plain": [
              "<Figure size 640x480 with 1 Axes>"
            ],
            "image/png": "[encoded data removed]"
          },
          "metadata": {}
        },
        {
          "output_type": "stream",
          "name": "stdout",
          "text": [
            "large bob results stored in: lg_h, lg_tau, lg_tau_sem\n"
          ]
        },
        {
          "output_type": "display_data",
          "data": {
            "text/plain": [
              "<Figure size 640x480 with 1 Axes>"
            ],
            "image/png": "[encoded data removed]"
          },
          "metadata": {}
        },
        {
          "output_type": "stream",
          "name": "stdout",
          "text": [
            "small bob results stored in: sm_h, sm_tau, sm_tau_sem\n"
          ]
        }
      ]
    },
    {
      "cell_type": "markdown",
      "source": [
        "#Checkpoint 2 redux\n",
        "\n",
        "As a reminder / to get us all on the same page, here are solutions from Checkpoint 2 you can use moving forward\n",
        "\n",
        "Checkpoint 2 asked you to write a series of commands to accomplish:\n",
        "\n",
        "calculate the lifetime vs separation betwen 1 and 10 mm as follows\n",
        "\n",
        "1. initialize empty list `lifetime = []`\n",
        "\n",
        "1. define height = np.arange(1,11)\n",
        "\n",
        "2. `for h in height:`\n",
        "  1. calculate z0 ($h/1000 + .003$)\n",
        "  1. calculate Q0 as `QLabGuess(z0)` - the lifetime for small oscillations that don't change the height much\n",
        "  1. define `s_span` as `(0, 3*Q0)`\n",
        "  1. define `s_eval` as 0, 0.1, 0.2 ... , 3*Q0\n",
        "  1. use `solve_ivp` to integrate the variable damped oscillator (`variableDampedOscillatorDerivative`) with initial position 0.1, initial velocity 0, and extra arguments z0, L = 1 m, and QLabTest. Store the result in sol\n",
        "  1. Calculate `U =0.5*(sol.y[0]**2 + sol.y[1]**2)`\n",
        "  1. find the best fit exponential relation between `U` and `sol.t` $U = a e^{ b t}$\n",
        "  1. append `-1/b` to `lifetime`\n",
        "\n",
        "1. Convert lifetime to a numpy array and divide by $\\omega = \\pi s^{-1}$ to get a lifetime in seconds\n",
        "\n",
        "1. Plot lifetime vs. h"
      ],
      "metadata": {
        "id": "C9GZ6HVUW3LD"
      }
    },
    {
      "cell_type": "code",
      "source": [
        "def dampedOscillatorDerivative (s,y,Q):\n",
        "  return (y[1],-y[0]-y[1]/Q) #last week's solution\n",
        "\n",
        "def ZofX (z0, L, x):\n",
        "  return z0 + 0.5*x**2/L\n",
        "\n",
        "def variableDampedOscillatorDerivative (s, y, z0, L, QofZ):\n",
        "  z = ZofX(z0,L,y[0])\n",
        "  Q = QofZ(z)\n",
        "  return  (y[1],-y[0]-y[1]/Q)\n",
        "\n",
        "def QPowerLaw (z, Qref = 17, zref = 0.004, n = 3):\n",
        "  return Qref * (z/zref)**n\n",
        "\n",
        "def QLabGuess (z):\n",
        "  return QPowerLaw(z, 30, .005, 3)\n",
        "\n",
        "Qconst = lambda z : 30\n",
        "\n",
        "\n",
        "lifetime = []\n",
        "height = np.arange(1,11)\n",
        "for h in height:\n",
        "  z0 = h/1000 + 0.003\n",
        "  Q0 = QLabGuess(z0)\n",
        "  s_span = (0,3*Q0)\n",
        "  s_eval = np.arange(0,3*Q0,0.1)\n",
        "  sol = solve_ivp(variableDampedOscillatorDerivative,s_span, (0.1,0), t_eval = s_eval, args = (z0,1,QLabGuess) )\n",
        "  U = 0.5*(sol.y[0]**2 + sol.y[1]**2)\n",
        "  a,b,_ = fitExponential(sol.t, U)\n",
        "  lifetime.append(-1/b)\n",
        "lifetime = np.array(lifetime)/np.pi\n",
        "\n",
        "plt.plot(height, lifetime, 'b.-')"
      ],
      "metadata": {
        "colab": {
          "base_uri": "https://localhost:8080/",
          "height": 447
        },
        "id": "aR0VaGE3W_Sj",
        "outputId": "538581f1-9cf0-49bc-8e2f-8b6b7c1a635d"
      },
      "execution_count": 5,
      "outputs": [
        {
          "output_type": "execute_result",
          "data": {
            "text/plain": [
              "[<matplotlib.lines.Line2D at 0x7f2d814c9eb0>]"
            ]
          },
          "metadata": {},
          "execution_count": 5
        },
        {
          "output_type": "display_data",
          "data": {
            "text/plain": [
              "<Figure size 640x480 with 1 Axes>"
            ],
            "image/png": "[encoded data removed]"
          },
          "metadata": {}
        }
      ]
    },
    {
      "cell_type": "markdown",
      "source": [
        "#Enapsulate the checkpoint 2 simulation into a function\n",
        "\n",
        "We want to write a function to simulate a damping experiment at multiple heights \n",
        "\n",
        "\n",
        "\n",
        "Here I would like you to write a function `lifetimeVsHeight(height, QofZ, magnetCenter, L = 1)` that accomplished the following (changes **bolded**)\n",
        "\n",
        "1. initialize empty list `lifetime = []`\n",
        "\n",
        "2. `for h in height:`\n",
        "  1. calculate z0 **(`h + magnetCenter`)** (from now on, we will work only with lengths in meters)\n",
        "  1. calculate Q0 as **`QofZ(z0)`**\n",
        "  1. define `s_span` as **`(-np.pi/2, 2.5*Q0)`**\n",
        "  1. define `s_eval` as **0, $\\pi$, $2\\pi$, ..., 2.3Q0** (this matches your experimental conditions, where you measured the energy every crossing and ended after 2.3 lifetimes) \n",
        "  1. use `solve_ivp` to integrate the variable damped oscillator (`variableDampedOscillatorDerivative`) with initial position 0.1, initial velocity 0, and extra arguments **z0, L, and QofZ**. Store the result in sol\n",
        "  1. Calculate `U =0.5*(sol.y[0]**2 + sol.y[1]**2)`\n",
        "  1. find the best fit exponential relation between `U` and `sol.t` $U = a e^{ b t}$\n",
        "  1. append `-1/b` to `lifetime`\n",
        "\n",
        "1. Convert lifetime to a numpy array and **divide by $\\omega = \\sqrt{g/L}$** to get a lifetime in seconds (g = 9.802)\n",
        "\n",
        "1. **return lifetime**"
      ],
      "metadata": {
        "id": "rOMBoUMGbcoy"
      }
    },
    {
      "cell_type": "code",
      "source": [
        "def lifetimeVsHeight(height, QofZ, magnetCenter, L = 1):\n",
        " ## your code here\n",
        " return lifetime\n",
        "\n",
        "#these plots should be nearly identical but not exactly the same due to differences in how omega is defined\n",
        "plt.plot(height, lifetime, height, lifetimeVsHeight(height/1000, QLabGuess, .003, 1))"
      ],
      "metadata": {
        "id": "Qud0g4wef2DN"
      },
      "execution_count": null,
      "outputs": []
    },
    {
      "cell_type": "markdown",
      "source": [
        "According to [Thess et al. 2007](https://doi.org/10.1088/1367-2630/9/8/299), the drag on a vertically oriented permanent magnet passing over a conducting sheet is given by\n",
        "\n",
        "$\\vec{F}_{drag} = A \\frac{1 - (1/(1 + d/z))^3}{z^3} \\vec{v} = A \\frac{(1 + d/z)^3 - 1}{(z + d)^3} \\vec{v}$\n",
        "\n",
        "where $d$ is the thickness of the aluminum plate and $z$ is the distance from the center of the magnet to top surface of the plate\n",
        "\n",
        "The constant $A = \\frac{\\mu_0^2 m^2 \\sigma}{128 \\pi}$,  where $\\mu_0$ is the magnetic permeability of free space, $m$ is the strength of the magnetic dipolse, and $\\sigma$ is the conductivity of the material.\n",
        "\n",
        "For permanent magnets, the dipole moment $m$ is calculated as $m = \\frac{1}{\\mu_0}B_r V$, where $V$ is the volume of the magnet and $B_r$ is the residual flux density, which is a propery of the magnet you can look up. So $A = \\frac{(B_r V)^2 \\sigma}{128 \\pi}$\n",
        "\n",
        "The magnet you used in lab is a 3/16\" thick, 3/8\" diameter N52 neodymium magnet with residual magnetization [1.4 T](https://www.arnoldmagnetics.com/wp-content/uploads/2017/11/N52-151021.pdf). (keep in mind that 1\" = .0254 meters)\n",
        "\n",
        "The aluminum disk was made from 5052 Aluminum ([$\\sigma = 2.065*10^7/(\\Omega m)$](https://www.nde-ed.org/NDETechniques/EddyCurrent/ET_Tables/ET_matlprop_Aluminum.xhtml) ) and was 1/8\" thick. \n",
        "\n",
        "The mass of your (**large**) bob is $\\approx$ 0.55 kg and the length of your pendulum is about 1 m (feel free to substitute the correct values from your lab notebook).\n",
        "\n",
        "\n",
        "Recalling that if $\\vec{F}_{drag} = - \\beta(z) \\vec{v}$, we define $Q(z) \\equiv \\frac{m \\omega}{\\beta(z)}$, please write a function \n",
        "\n",
        "`QDipole(z, mass = 0.55)` that uses the above formulae and constants to find instantaneous Q as a function of z\n",
        "\n",
        "Test your function by plotting the `QDipole(lg_h)` vs. `lg_h` and $\\omega$*`lg_tau` vs. `lg_h` on the same axes. They won't be exactly equal, but they should be at least of the same order of magnitude. \n",
        "\n",
        "**If your small bob data looks better to you,** change the mass in QDipole to match the mass you measured and for the rest of this workbook, everywhere you see `lg` (e.g. `lg_h`, `lg_tau`), change it to `sm`\n"
      ],
      "metadata": {
        "id": "5A73zvLThK6k"
      }
    },
    {
      "cell_type": "code",
      "source": [
        "def QDipole(z, mass = 0.55):\n",
        "  inch = .0254\n",
        "  sigma = 2.065E+07 #1/(ohm m) 5052 aluminum - https://www.nde-ed.org/NDETechniques/EddyCurrent/ET_Tables/ET_matlprop_Aluminum.xhtml\n",
        "  Br = 1.4 #Tesla N52 - https://www.arnoldmagnetics.com/wp-content/uploads/2017/11/N52-151021.pdf\n",
        "  magnet_dia = .375*inch\n",
        "  magnet_thick = 3/16.0 * inch\n",
        "  length = 1\n",
        "  g = 9.802\n",
        "  d = .125*inch\n",
        "\n",
        "  V = #area times thickness \n",
        "  A = #your code here\n",
        "\n",
        "  omega = #your code here\n",
        "\n",
        "  beta = #your code here\n",
        "\n",
        "  return mass*omega/beta\n",
        "\n",
        "#your test plot here"
      ],
      "metadata": {
        "id": "V3WDUgAOmmkY"
      },
      "execution_count": null,
      "outputs": []
    },
    {
      "cell_type": "markdown",
      "source": [
        "Consider the force law $\\vec{F}_{drag} = A \\frac{1 - (1/(1 + d/z))^3}{z^3} \\vec{v} = A \\frac{(1 + d/z)^3 - 1}{(z + d)^3} \\vec{v}$\n",
        "\n",
        "For $d \\gg z$, $1 - (1/(1 + d/z))^3 \\approx 1$ and $\\vec{F} \\propto z^{-3}$ \n",
        "$d \\ll z$, $1 - (1/(1 + d/z))^3 \\approx 3d/z$, so $\\vec{F} \\propto h^{-4}$.\n",
        "\n",
        "For small $z$ then $Q \\propto z^3$ and for large $z$, $Q \\propto z^4$. \n",
        "\n",
        "Please make a plot showing Q along with these limits\n",
        "\n",
        "1. Define a $z$ axis `zx` with 100 elements ranging from .0034 m to .00144 m (3.4 to 14.4 mm). `zx` should be in terms of meters. If the distance to the magnet center is about 2.4 mm, then this is a range of separations from 1 to 12 mm. \n",
        "1. Calculate `Q = QDipole(zx)` (remember that QDipole wants z in meters, not mm)\n",
        "1. When $z$ is small (i.e. when $z \\ll d \\sim .003$m), $Q \\propto z^{3}$. Please calculate `Q3 = C3 * zx**3` where `C3` is chosen so that `C3*(1e-4)**3 == QDipole(1e-4)`\n",
        "1. When $z$ is large (i.e. when $z \\gg d \\sim .003$m), $Q \\propto z^{4}$. Please calculate `Q4 = C4 * zx**4` where `C4` is chosen so that `C4*(1)**3 == QDipole(1)`\n",
        "\n",
        "1. Plot `Q`, `Q3`, and `Q4` vs. `zx` with  lines of different colors on the same axes. \n",
        "\n",
        "1. On a new set of axes, make the same plots, but set a logarithmic scale"
      ],
      "metadata": {
        "id": "1IU9g284ml7v"
      }
    },
    {
      "cell_type": "code",
      "source": [
        "#your code here"
      ],
      "metadata": {
        "id": "qZ-GUTgnwAv_"
      },
      "execution_count": null,
      "outputs": []
    },
    {
      "cell_type": "markdown",
      "source": [
        "#Simulate the lifetime vs. height for the Dipole force law\n",
        "\n",
        "Choosing either large or small bob data, use the function `lifetimeVsHeight` to calculate the simualted lifetime  (store in `tau_sim`) at\n",
        "- `lg_h/1000` (or `sm_h/1000`)\n",
        "- for the force law `QDipole` (if you need to change the mass from the default value, use the force law `lambda z : QDipole(z,newmass)`\n",
        "- with a magnetCenter 2.4 mm (3/32\") from the bottom of the magnet\n",
        "- with a pendulum length of 1 meter (or the value from your labbook)\n",
        "\n",
        "Plot the simulated lifetime vs. height as well as the experimental results, with labels and a legend"
      ],
      "metadata": {
        "id": "JlwbhZHqolhr"
      }
    },
    {
      "cell_type": "code",
      "source": [
        "#your code here\n",
        "plt.xlabel('mm')\n",
        "plt.ylabel('lifetime')\n",
        "plt.legend();"
      ],
      "metadata": {
        "colab": {
          "base_uri": "https://localhost:8080/",
          "height": 449
        },
        "id": "Q23DqmU0hPHr",
        "outputId": "118b34a4-7ad5-4eda-aea4-1d5a92dd064a"
      },
      "execution_count": 9,
      "outputs": [
        {
          "output_type": "display_data",
          "data": {
            "text/plain": [
              "<Figure size 640x480 with 1 Axes>"
            ],
            "image/png": "[encoded data removed]"
          },
          "metadata": {}
        }
      ]
    },
    {
      "cell_type": "markdown",
      "source": [
        "#Add in the effect of the steel bob\n",
        "\n",
        "When the magnet is attracted to the steel bob (relative permeability about 1000), there is an image dipole. If the bob were flat, this dipole would have the same magnitude and be located so that it appeared to be another magnet touching the bob (this is only true because the magnet is oriented perpendicular to the surface of the bob). In other words\n",
        "1. Call the bottom surface of the bob $z = 0$\n",
        "1. The real magnet appears as a dipole with magnitude $M$ located below the bob at $z = -t_m/2$, where $t_m = 3/16\" = 4.8$mm is the thickness of the magnet. \n",
        "1. The image magnet appears as a dipole of the same magnitude $M$ located inside the bob at $z = +t_m/2$.\n",
        "1. Combined, the two dipoles have a magnitude $2M$ and are located at $z = 0$. \n",
        "\n",
        "Let's simulate what would happen when this combined magnet interacts with the aluminum plate. You could redo the calculations for QDipole, but if you look carefully, you'll see that QDipole $\\propto$ 1/$M^2$, so you can just adjust it using a lambda expression. You will also need to adjust the center location - instead of being .0024 meters above the bottom of the magnet, it's .0048 meters above the bottom of the magnet (at the surface of the bob). \n",
        "\n",
        "Choosing either large or small bob data (change the mass in your definition `QDipole` appropriately), use the function `lifetimeVsHeight` to calculate the lifetime (store in `tau_flat`) at\n",
        "- `lg_h/1000`  (or `sm_h/1000`)\n",
        "- for the force law `lambda z : QDipole(z)/4` (if you need to change the mass from the default value, use the force law `lambda z : QDipole(z,newmass)/4`)\n",
        "- with a magnetCenter 4.8 mm (3/16\") from the bottom of the magnet\n",
        "- with a pendulum length of 1 meter (or the value from your labbook)\n",
        "\n",
        "Plot the first simulated lifetime (`tau_sim`) vs. height, this simulation (`tau_flat`), and the experimental results,  with labels and a legend\n",
        "\n"
      ],
      "metadata": {
        "id": "jrg2B4vNmo9O"
      }
    },
    {
      "cell_type": "code",
      "source": [
        "#your code here (hint: you can copy a lot from the previous cell)"
      ],
      "metadata": {
        "id": "kwoMsjoxirqM"
      },
      "execution_count": null,
      "outputs": []
    },
    {
      "cell_type": "markdown",
      "source": [
        "#Add in the effect of the SPHERICAL steel bob\n",
        "\n",
        "Because the bob is round, image charges appear to be both smaller and closer to the surface of the bob than they would otherwise. As a result, if the real magnet is a dipole of magnitude $M$, located a distance $z$ below the bob, the image dipole appears to be of magnitude $\\alpha^2M$ and located a distance $\\alpha z$ above the surface of the ball, where $\\alpha = 1 - z/R$\n",
        "\n",
        "The resulting combination is a dipole of magnitude $(1 + \\alpha^2)M$ located at a coordinate $\\frac{-z + \\alpha^3 z}{1 + \\alpha^2}$ relative to the bottom of the bob, or $z\\frac{\\alpha^3 + 2\\alpha^2 + 1}{1 + \\alpha^2}$ above the bottom of the magnet. \n",
        "\n",
        "Here $z$ is the half thickness of the magnet = $3/32$\" = .0024 m.  For the large bob, $R$ = 1\" ($\\alpha = 29/32$); for the small bob, $R = .75$\" ($\\alpha = 7/8$). Use these to find `tau_ball` as before: `lifetimeVsHeight` at\n",
        "- `lg_h/1000`  (or `sm_h/1000`)\n",
        "- for the force law `lambda z : QDipole(z)/(1 + alpha**2)**2` (if you need to change the mass from the default value, use the force law `lambda z : QDipole(z,newmass)/(1 + alpha**2)**2`)\n",
        "- with a magnetCenter at $.0024 \\frac{\\alpha^3 + 2\\alpha^2 + 1}{1 + \\alpha^2}$\n",
        "- with a pendulum length of 1 meter (or the value from your labbook)  "
      ],
      "metadata": {
        "id": "DVRSm_nYy75m"
      }
    },
    {
      "cell_type": "code",
      "source": [
        "#your code here"
      ],
      "metadata": {
        "id": "-nGaW7js2Zx-"
      },
      "execution_count": null,
      "outputs": []
    },
    {
      "cell_type": "markdown",
      "source": [
        "#Apply a fudge factor\n",
        "\n",
        "You may already be pretty close to predicting the experimental values with *no free parameters*. That is, you've written down an expression for the force law that involves only predetermined quantities (conductivity of aluminum, mass of the ball, thickness of the plate, size of the magnet, residual magnet strength, size of the bob, anything else?) and predicted its consequences. \n",
        "\n",
        "But maybe there's a little bit of imperfection somewhere - maybe the magnet isn't quite as strong as it should be, or wasn't lined up perfectly vertically, or the aluminum conductivity doesn't match the book value exactly. All of these cases would cause $Q$ to change by a constant factor. \n",
        "\n",
        "So let's see if we can find a correction to Q that makes the simulation line up with the data\n",
        "\n",
        "1. Define a function `lifetimeWithFudge(f):` that calculates `lifetimeVsHeight` \n",
        "- at `lg_h/1000` (or `sm_h/1000`)\n",
        "- for the force law `lambda z : f*QDipole(z)/(1 + alpha**2)**2` (if you need to change the mass from the default value, use the force law `lambda z : QDipole(z,newmass)/(1 + alpha**2)**2`) **this is a change to the force law from last time**\n",
        "- with a magnetCenter at $.0024 \\frac{\\alpha^3 + 2\\alpha^2 + 1}{1 + \\alpha^2}$ \n",
        "- with a pendulum length of 1 meter (or the value from your labbook)  \n",
        "- and returns the lifetimes as a numpy array (1 lifetime per value in `lg_h` or `sm_h`)\n",
        "2. Define a function `fudgeError(f)` (or use a lambda expression) that returns the sum (`np.sum`) of `(lifetimeWithFudge(f) - lg_tau)**2` (or `sm_tau`)  \n",
        "3. `res = scipy.optimize.minimize_scalar(fudgeError, bounds=(.5,1.5))` will find the best fudge factor with the range 50% to 150% to match the measured values. \n",
        "4. `ff = res.x` stores the fudge factor in ff\n",
        "\n",
        "Please plot the data, ball simulation lifetime, and the new best fit lifetime (`lifetimeWithFudge(ff)`) on the same axes, with labels and legend. In the legend, provide the fudge factor"
      ],
      "metadata": {
        "id": "9gs_rNuk3iN0"
      }
    },
    {
      "cell_type": "code",
      "source": [
        "def lifetimeWithFudge(f):\n",
        "  return #your code here\n",
        "fudgeError = #your lambda expression here (or rewrite as a function with a return value)\n",
        "\n",
        "res = scipy.optimize.minimize_scalar(fudgeError, bounds=(.5,1.5))\n",
        "ff = res.x\n",
        "\n",
        "#your code here \n"
      ],
      "metadata": {
        "id": "O5wdHDXA-AzI"
      },
      "execution_count": null,
      "outputs": []
    },
    {
      "cell_type": "markdown",
      "source": [
        "#Does anything work (optional)?\n",
        "\n",
        "You might be wondering if the match between data and corrected model means anything - maybe you could have fit anything the same way and gotten the same result. \n",
        "\n",
        "You can test this by trying to fit other models to the data this way. For example:\n",
        "\n",
        "Do the same excercise, but use a new `lifetimeWithFudgeDipole` that uses the force law `f*QDipole(z)` (no corrections for the ball) at an offset of .0024 mm. \n",
        "\n",
        "Plot this as above - can you still match the data? (you can also consider whether the fudge factor you need is farther from 1 than in the work you did above)\n"
      ],
      "metadata": {
        "id": "PyfssqWx_DKx"
      }
    },
    {
      "cell_type": "code",
      "source": [
        "#your code here"
      ],
      "metadata": {
        "id": "PtRU08jE_juB"
      },
      "execution_count": null,
      "outputs": []
    }
  ]
}